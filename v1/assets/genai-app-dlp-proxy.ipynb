{
 "cells": [
  {
   "cell_type": "code",
   "execution_count": null,
   "id": "0b58b3b7",
   "metadata": {},
   "outputs": [],
   "source": [
    "proxy_ip=!curl \"http://metadata.google.internal/computeMetadata/v1/instance/attributes/PROXY_IP\" -H \"Metadata-Flavor: Google\"\n",
    "proxy_ip=(proxy_ip[5])\n",
    "proxies = {'https': proxy_ip}\n",
    "print(\"Secure web proxy address is {}\".format(proxies))"
   ]
  },
  {
   "cell_type": "code",
   "execution_count": null,
   "id": "569b10bb",
   "metadata": {},
   "outputs": [],
   "source": [
    "proj=!curl \"http://metadata.google.internal/computeMetadata/v1/instance/attributes/PROJ_ID\" -H \"Metadata-Flavor: Google\"\n",
    "project_id=(proj[5])\n",
    "print(\"Vertex project id is {}\".format(project_id))"
   ]
  },
  {
   "cell_type": "code",
   "execution_count": null,
   "id": "223accd6-e502-4a82-bd92-db2d90f0d34e",
   "metadata": {},
   "outputs": [],
   "source": [
    "! pip3 install --trusted-host --upgrade  google-cloud-dlp  --proxy \"http://{proxy_ip}\""
   ]
  },
  {
   "cell_type": "code",
   "execution_count": 8,
   "id": "dbd57856-b368-4032-b02d-ae3144de46f5",
   "metadata": {},
   "outputs": [],
   "source": [
    "import google.cloud.dlp  # noqa: F811, E402\n",
    "from typing import List  # noqa: F811, E402"
   ]
  },
  {
   "cell_type": "code",
   "execution_count": null,
   "id": "9c499f77-7f59-46f7-88e3-10febce3b421",
   "metadata": {},
   "outputs": [],
   "source": [
    "def deidentify_with_replace_infotype(\n",
    "    project: str, item: str, info_types: List[str]\n",
    ") -> None:\n",
    "    \"\"\"Uses the Data Loss Prevention API to deidentify sensitive data in a\n",
    "    string by replacing it with the info type.\n",
    "    Args:\n",
    "        project: The Google Cloud project id to use as a parent resource.\n",
    "        item: The string to deidentify (will be treated as text).\n",
    "        info_types: A list of strings representing info types to look for.\n",
    "            A full list of info type categories can be fetched from the API.\n",
    "    Returns:\n",
    "        None; the response from the API is printed to the terminal.\n",
    "    \"\"\"\n",
    "    \n",
    "    # Instantiate a client\n",
    "    dlp = google.cloud.dlp_v2.DlpServiceClient()\n",
    "\n",
    "    # Convert the project id into a full resource id.\n",
    "    parent = f\"projects/{project}\"\n",
    "\n",
    "    # Construct inspect configuration dictionary\n",
    "    inspect_config = {\"info_types\": [{\"name\": info_type} for info_type in info_types]}\n",
    "\n",
    "    # Construct deidentify configuration dictionary\n",
    "    deidentify_config = {\n",
    "        \"info_type_transformations\": {\n",
    "            \"transformations\": [\n",
    "                {\"primitive_transformation\": {\"replace_with_info_type_config\": {}}}\n",
    "            ]\n",
    "        }\n",
    "    }\n",
    "\n",
    "    # Call the API\n",
    "    response = dlp.deidentify_content(\n",
    "        request={\n",
    "            \"parent\": parent,\n",
    "            \"deidentify_config\": deidentify_config,\n",
    "            \"inspect_config\": inspect_config,\n",
    "            \"item\": {\"value\": item},\n",
    "        }\n",
    "    )\n",
    "\n",
    "    # Print out the results.\n",
    "    print(response.item.value)\n",
    "    \n",
    "deidentify_with_replace_infotype(project_id, \"username@google.com\", [\"EMAIL_ADDRESS\"])"
   ]
  },
  {
   "cell_type": "code",
   "execution_count": null,
   "id": "47b55078-5c27-4f47-9257-2e29058c8af6",
   "metadata": {},
   "outputs": [],
   "source": [
    "! pip3 install --trusted-host --upgrade  google-cloud-aiplatform --upgrade --user --proxy \"http://{proxy_ip}\""
   ]
  },
  {
   "cell_type": "code",
   "execution_count": 1,
   "id": "e7304c9c-d617-4d00-95d3-3dfeaefb7e5d",
   "metadata": {},
   "outputs": [],
   "source": [
    "import pandas as pd\n",
    "import seaborn as sns\n",
    "from IPython.display import Markdown, display\n",
    "from sklearn.metrics.pairwise import cosine_similarity\n",
    "from vertexai.preview.language_models import (ChatModel, InputOutputTextPair,\n",
    "                                              TextEmbeddingModel,\n",
    "                                              TextGenerationModel)"
   ]
  },
  {
   "cell_type": "code",
   "execution_count": 2,
   "id": "6016e961-47ef-441b-8200-4eacd2d7a263",
   "metadata": {},
   "outputs": [],
   "source": [
    "generation_model = TextGenerationModel.from_pretrained(\"text-bison@001\")"
   ]
  },
  {
   "cell_type": "code",
   "execution_count": null,
   "id": "32b47947-08fa-45a4-844b-94274510cad1",
   "metadata": {},
   "outputs": [],
   "source": [
    "prompt = \"whats an email address?\"\n",
    "\n",
    "response = generation_model.predict(prompt=prompt)\n",
    "\n",
    "print(response.text)"
   ]
  },
  {
   "cell_type": "code",
   "execution_count": null,
   "id": "ca858f14-569b-4a8c-9b88-34feae3a1d01",
   "metadata": {},
   "outputs": [],
   "source": [
    "def deidentify_with_replace_infotype(\n",
    "    project: str, item: str, info_types: List[str]\n",
    ") -> None:\n",
    "    \"\"\"Uses the Data Loss Prevention API to deidentify sensitive data in a\n",
    "    string by replacing it with the info type.\n",
    "    Args:\n",
    "        project: The Google Cloud project id to use as a parent resource.\n",
    "        item: The string to deidentify (will be treated as text).\n",
    "        info_types: A list of strings representing info types to look for.\n",
    "            A full list of info type categories can be fetched from the API.\n",
    "    Returns:\n",
    "        None; the response from the API is printed to the terminal.\n",
    "    \"\"\"\n",
    "    \n",
    "    # Instantiate a client\n",
    "    dlp = google.cloud.dlp_v2.DlpServiceClient()\n",
    "\n",
    "    # Convert the project id into a full resource id.\n",
    "    parent = f\"projects/{project}\"\n",
    "\n",
    "    # Construct inspect configuration dictionary\n",
    "    inspect_config = {\"info_types\": [{\"name\": info_type} for info_type in info_types]}\n",
    "\n",
    "    # Construct deidentify configuration dictionary\n",
    "    deidentify_config = {\n",
    "        \"info_type_transformations\": {\n",
    "            \"transformations\": [\n",
    "                {\"primitive_transformation\": {\"replace_with_info_type_config\": {}}}\n",
    "            ]\n",
    "        }\n",
    "    }\n",
    "\n",
    "    # Call the API\n",
    "    response = dlp.deidentify_content(\n",
    "        request={\n",
    "            \"parent\": parent,\n",
    "            \"deidentify_config\": deidentify_config,\n",
    "            \"inspect_config\": inspect_config,\n",
    "            \"item\": {\"value\": item},\n",
    "        }\n",
    "    )\n",
    "\n",
    "    # Print out the results.\n",
    "    print(response.item.value)\n",
    "    \n",
    "deidentify_with_replace_infotype(project_id, response.text, [\"EMAIL_ADDRESS\"])"
   ]
  },
  {
   "cell_type": "code",
   "execution_count": null,
   "id": "dc91e83a-be82-4267-a774-7c562af588e6",
   "metadata": {},
   "outputs": [],
   "source": [
    "prompt = \"whats an social security number? Can you give an example ?\"\n",
    "response = generation_model.predict(prompt=prompt)\n",
    "print(response.text)"
   ]
  },
  {
   "cell_type": "code",
   "execution_count": null,
   "id": "316ee517",
   "metadata": {},
   "outputs": [],
   "source": [
    "def deidentify_with_replace_infotype(\n",
    "    project: str, item: str, info_types: List[str], masking_character: str = \"#\", number_to_mask: int = 6,\n",
    ") -> None:\n",
    "    \"\"\"Uses the Data Loss Prevention API to deidentify sensitive data in a\n",
    "    string by replacing it with the info type.\n",
    "    Args:\n",
    "        project: The Google Cloud project id to use as a parent resource.\n",
    "        item: The string to deidentify (will be treated as text).\n",
    "        info_types: A list of strings representing info types to look for.\n",
    "            A full list of info type categories can be fetched from the API.\n",
    "    Returns:\n",
    "        None; the response from the API is printed to the terminal.\n",
    "    \"\"\"\n",
    "    #masking_character = \"*\"\n",
    "    \n",
    "    # Instantiate a client\n",
    "    dlp = google.cloud.dlp_v2.DlpServiceClient()\n",
    "\n",
    "    # Convert the project id into a full resource id.\n",
    "    parent = f\"projects/{project}\"\n",
    "\n",
    "    # Construct inspect configuration dictionary\n",
    "    inspect_config = {\"info_types\": [{\"name\": info_type} for info_type in info_types]}\n",
    "\n",
    "    # Construct deidentify configuration dictionary\n",
    "    deidentify_config = {\n",
    "        \"info_type_transformations\": {\n",
    "            \"transformations\": [\n",
    "                {\"primitive_transformation\":  {\n",
    "                        \"character_mask_config\": {\n",
    "                            \"masking_character\": masking_character,\n",
    "                            \"number_to_mask\": number_to_mask,\n",
    "                        }\n",
    "                    }\n",
    "                }\n",
    "            ]\n",
    "        }\n",
    "    }\n",
    "\n",
    "    # Call the API\n",
    "    response = dlp.deidentify_content(\n",
    "        request={\n",
    "            \"parent\": parent,\n",
    "            \"deidentify_config\": deidentify_config,\n",
    "            \"inspect_config\": inspect_config,\n",
    "            \"item\": {\"value\": item},\n",
    "        }\n",
    "    )\n",
    "\n",
    "    # Print out the results.\n",
    "    print(response.item.value)\n",
    "    \n",
    "deidentify_with_replace_infotype(project_id, response.text, [\"US_SOCIAL_SECURITY_NUMBER\"])"
   ]
  }
 ],
 "metadata": {
  "environment": {
   "kernel": "python3",
   "name": "tf2-gpu.2-6.m108",
   "type": "gcloud",
   "uri": "gcr.io/deeplearning-platform-release/tf2-gpu.2-6:m108"
  },
  "kernelspec": {
   "display_name": "Python 3 (ipykernel)",
   "language": "python",
   "name": "python3"
  },
  "language_info": {
   "codemirror_mode": {
    "name": "ipython",
    "version": 3
   },
   "file_extension": ".py",
   "mimetype": "text/x-python",
   "name": "python",
   "nbconvert_exporter": "python",
   "pygments_lexer": "ipython3",
   "version": "3.9.16"
  }
 },
 "nbformat": 4,
 "nbformat_minor": 5
}
